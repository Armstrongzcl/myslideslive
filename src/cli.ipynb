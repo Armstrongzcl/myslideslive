{
 "cells": [
  {
   "cell_type": "code",
   "execution_count": null,
   "id": "0eb0d40d",
   "metadata": {},
   "outputs": [],
   "source": [
    "#default_exp cli"
   ]
  },
  {
   "cell_type": "code",
   "execution_count": null,
   "id": "da4c7cd8",
   "metadata": {},
   "outputs": [],
   "source": [
    "#hide\n",
    "%load_ext autoreload\n",
    "%autoreload 2"
   ]
  },
  {
   "cell_type": "code",
   "execution_count": null,
   "id": "8015ebf2",
   "metadata": {},
   "outputs": [],
   "source": [
    "#hide\n",
    "from nbdev.export import notebook2script"
   ]
  },
  {
   "cell_type": "code",
   "execution_count": null,
   "id": "f1dfc060",
   "metadata": {},
   "outputs": [],
   "source": [
    "#hide\n",
    "#test\n",
    "import os\n",
    "import tempfile\n",
    "\n",
    "from myslideslive.test_helper import _cd_temp"
   ]
  },
  {
   "cell_type": "code",
   "execution_count": null,
   "id": "fd646437",
   "metadata": {},
   "outputs": [],
   "source": [
    "#export\n",
    "import argparse\n",
    "\n",
    "from myslideslive.slideslive import SlidesLive"
   ]
  },
  {
   "cell_type": "markdown",
   "id": "64c6a806",
   "metadata": {},
   "source": [
    "# Command Line Interface\n",
    "\n",
    "> Process your SlidesLive presentation directly from terminal."
   ]
  },
  {
   "cell_type": "code",
   "execution_count": null,
   "id": "dd4d9d23",
   "metadata": {},
   "outputs": [],
   "source": [
    "#hide\n",
    "#export\n",
    "parser = argparse.ArgumentParser(description='Take care of your SlidesLive slides...')\n",
    "\n",
    "parser.add_argument('url', type=str, help='SlidesLive URL', nargs=1)\n",
    "parser.add_argument('--size', default='big', type=str, help='Slide size: medium or big')\n",
    "parser.add_argument('--waittime', default=0.2, type=float, help='Seconds to wait after downloading each slide')\n",
    "parser.add_argument('--lastduration', default=None, type=int, help='The duration of last slide in seconds')\n",
    "\n",
    "parser.add_argument('--time', default=None,\n",
    "                    nargs=2, type=tuple, metavar=('MIN_TIME', 'MAX_TIME'),\n",
    "                    help='A time range used to extract slides (use None for one of '\n",
    "                         'the values to get min or max range)')\n",
    "parser.add_argument('--slide', default=None,\n",
    "                    nargs=2, type=tuple, metavar=('MIN_SLIDE_ID', 'MAX_SLIDE_ID'),\n",
    "                    help='A range of slide IDs to extract (use None for one of '\n",
    "                         'the values to get min or max range)')"
   ]
  },
  {
   "cell_type": "code",
   "execution_count": null,
   "id": "0ef1330a",
   "metadata": {},
   "outputs": [],
   "source": [
    "#hide\n",
    "#export\n",
    "def main():\n",
    "    \"\"\"Defines command line interface.\"\"\"\n",
    "    args = parser.parse_args()\n",
    "    if args.size not in ('big', 'medium'):\n",
    "        raise RuntimeError('The slide size can only be *big* or *medium*.')\n",
    "\n",
    "    if args.slide is not None:\n",
    "        assert len(args.slide) == 2\n",
    "        s1 = ''.join(args.slide[0])\n",
    "        if s1.isdecimal():\n",
    "            s1 = int(s1)\n",
    "        elif s1.lower() == 'none':\n",
    "            s1 = None\n",
    "        else:\n",
    "            raise RuntimeError('--slide MIN_SLIDE_ID must either be an integer '\n",
    "                               f'or None.\\n{s1} was given.')\n",
    "        s2 = ''.join(args.slide[1])\n",
    "        if s2.isdecimal():\n",
    "            s2 = int(s2)\n",
    "        elif s2.lower() == 'none':\n",
    "            s2 = None\n",
    "        else:\n",
    "            raise RuntimeError('--slide MAX_SLIDE_ID must either be an integer '\n",
    "                               f'or None.\\n{s2} was given.')\n",
    "        slide = (s1, s2)\n",
    "    else:\n",
    "        slide = None\n",
    "\n",
    "    if args.time is not None:\n",
    "        assert len(args.time) == 2\n",
    "        t1 = ''.join(args.time[0])\n",
    "        if t1.isdecimal():\n",
    "            t1 = int(t1)\n",
    "        elif t1.lower() == 'none':\n",
    "            t1 = None\n",
    "        else:\n",
    "            raise RuntimeError('--time MIN_TIME must either be an integer '\n",
    "                               f'or None.\\n{t1} was given.')\n",
    "        t2 = ''.join(args.time[1])\n",
    "        if t2.isdecimal():\n",
    "            t2 = int(t2)\n",
    "        elif t2.lower() == 'none':\n",
    "            t2 = None\n",
    "        else:\n",
    "            raise RuntimeError('--slide MAX_TIME must either be an integer '\n",
    "                               f'or None.\\n{t2} was given.')\n",
    "        time = (t1, t2)\n",
    "    else:\n",
    "        time = None\n",
    "\n",
    "    assert isinstance(args.url ,list) and len(args.url) == 1\n",
    "    url = args.url[0]\n",
    "\n",
    "    msl = SlidesLive(url)\n",
    "    msl.download_slides(slide_type=args.size,\n",
    "                        slide=slide,\n",
    "                        time=time,\n",
    "                        sleep_time=args.waittime)\n",
    "    msl.compose_video(last_duration=args.lastduration)"
   ]
  },
  {
   "cell_type": "code",
   "execution_count": null,
   "id": "3161f8c2",
   "metadata": {},
   "outputs": [
    {
     "name": "stdout",
     "output_type": "stream",
     "text": [
      "usage: mls [-h] [--size SIZE] [--waittime WAITTIME]\n",
      "                             [--lastduration LASTDURATION]\n",
      "                             [--time MIN_SLIDE_ID max_slide_id]\n",
      "                             [--slide MIN_SLIDE_ID MAX_SLIDE_ID]\n",
      "                             url\n",
      "\n",
      "Take care of your SlidesLive slides...\n",
      "\n",
      "positional arguments:\n",
      "  url                   SlidesLive URL\n",
      "\n",
      "optional arguments:\n",
      "  -h, --help            show this help message and exit\n",
      "  --size SIZE           Slide size: medium or big\n",
      "  --waittime WAITTIME   Seconds to wait after downloading each slide\n",
      "  --lastduration LASTDURATION\n",
      "                        The duration of last slide in seconds\n",
      "  --time MIN_SLIDE_ID max_slide_id\n",
      "                        Seconds to wait after downloading each slide\n",
      "  --slide MIN_SLIDE_ID MAX_SLIDE_ID\n",
      "                        A range of slide IDs to extract (use None for one of\n",
      "                        the values to get min or max)\n",
      "\n"
     ]
    }
   ],
   "source": [
    "#hide_input\n",
    "print(\n",
    "    parser.format_help().replace('ipykernel_launcher.py', 'mls')\n",
    ")"
   ]
  },
  {
   "cell_type": "markdown",
   "id": "a4ef95f0",
   "metadata": {},
   "source": [
    "E.g.,\n",
    "```bash\n",
    "msl --slide 1074 1163 \\\n",
    "https://slideslive.com/38956531/beyond-static-papers-rethinking-how-we-share-scientific-understanding-in-ml\n",
    "```\n",
    "to replicate the exmaple from the `SlidesLive` class documentation."
   ]
  },
  {
   "cell_type": "code",
   "execution_count": null,
   "id": "cff3b7db",
   "metadata": {},
   "outputs": [],
   "source": [
    "#hide\n",
    "#test\n",
    "CWD = os.getcwd()"
   ]
  },
  {
   "cell_type": "code",
   "execution_count": null,
   "id": "6893e1c6",
   "metadata": {},
   "outputs": [
    {
     "name": "stdout",
     "output_type": "stream",
     "text": [
      "ffmpeg version 4.3.1 Copyright (c) 2000-2020 the FFmpeg developers\n",
      "  built with Apple clang version 12.0.0 (clang-1200.0.32.28)\n",
      "  configuration: --prefix=/usr/local/Cellar/ffmpeg/4.3.1_8 --enable-shared --enable-pthreads --enable-version3 --enable-avresample --cc=clang --host-cflags= --host-ldflags= --enable-ffplay --enable-gnutls --enable-gpl --enable-libaom --enable-libbluray --enable-libdav1d --enable-libmp3lame --enable-libopus --enable-librav1e --enable-librubberband --enable-libsnappy --enable-libsrt --enable-libtesseract --enable-libtheora --enable-libvidstab --enable-libvorbis --enable-libvpx --enable-libwebp --enable-libx264 --enable-libx265 --enable-libxml2 --enable-libxvid --enable-lzma --enable-libfontconfig --enable-libfreetype --enable-frei0r --enable-libass --enable-libopencore-amrnb --enable-libopencore-amrwb --enable-libopenjpeg --enable-librtmp --enable-libspeex --enable-libsoxr --enable-videotoolbox --enable-libzmq --enable-libzimg --disable-libjack --disable-indev=jack\n",
      "  libavutil      56. 51.100 / 56. 51.100\n",
      "  libavcodec     58. 91.100 / 58. 91.100\n",
      "  libavformat    58. 45.100 / 58. 45.100\n",
      "  libavdevice    58. 10.100 / 58. 10.100\n",
      "  libavfilter     7. 85.100 /  7. 85.100\n",
      "  libavresample   4.  0.  0 /  4.  0.  0\n",
      "  libswscale      5.  7.100 /  5.  7.100\n",
      "  libswresample   3.  7.100 /  3.  7.100\n",
      "  libpostproc    55.  7.100 / 55.  7.100\n",
      "Input #0, concat, from '/var/folders/d0/9mvcgn8503s6975cz1p09rmc0000gn/T/tmpdgtg11_y':\n",
      "  Duration: 00:00:35.00, start: 0.000000, bitrate: 0 kb/s\n",
      "    Stream #0:0: Video: mjpeg (Baseline), yuvj420p(pc, bt470bg/unknown/unknown), 1024x576 [SAR 96:96 DAR 16:9], 25 tbr, 25 tbn, 25 tbc\n",
      "Stream mapping:\n",
      "  Stream #0:0 -> #0:0 (mjpeg (native) -> h264 (libx264))\n",
      "Press [q] to stop, [?] for help\n",
      "\u001b[1;36m[libx264 @ 0x7faccb824e00] \u001b[0musing SAR=1/1\n",
      "\u001b[1;36m[libx264 @ 0x7faccb824e00] \u001b[0musing cpu capabilities: MMX2 SSE2Fast SSSE3 SSE4.2 AVX FMA3 BMI2 AVX2\n",
      "\u001b[1;36m[libx264 @ 0x7faccb824e00] \u001b[0mprofile High, level 3.1, 4:2:0, 8-bit\n",
      "\u001b[1;36m[libx264 @ 0x7faccb824e00] \u001b[0m264 - core 161 r3027 4121277 - H.264/MPEG-4 AVC codec - Copyleft 2003-2020 - http://www.videolan.org/x264.html - options: cabac=1 ref=3 deblock=1:0:0 analyse=0x3:0x113 me=hex subme=7 psy=1 psy_rd=1.00:0.00 mixed_ref=1 me_range=16 chroma_me=1 trellis=1 8x8dct=1 cqm=0 deadzone=21,11 fast_pskip=1 chroma_qp_offset=-2 threads=6 lookahead_threads=1 sliced_threads=0 nr=0 decimate=1 interlaced=0 bluray_compat=0 constrained_intra=0 bframes=3 b_pyramid=2 b_adapt=1 b_bias=0 direct=1 weightb=1 open_gop=0 weightp=2 keyint=250 keyint_min=25 scenecut=40 intra_refresh=0 rc_lookahead=40 rc=crf mbtree=1 crf=23.0 qcomp=0.60 qpmin=0 qpmax=69 qpstep=4 ip_ratio=1.40 aq=1:1.00\n",
      "Output #0, mp4, to '38956531.mp4':\n",
      "  Metadata:\n",
      "    encoder         : Lavf58.45.100\n",
      "    Stream #0:0: Video: h264 (libx264) (avc1 / 0x31637661), yuvj420p(pc), 1024x576 [SAR 96:96 DAR 16:9], q=-1--1, 25 fps, 12800 tbn, 25 tbc\n",
      "    Metadata:\n",
      "      encoder         : Lavc58.91.100 libx264\n",
      "    Side data:\n",
      "      cpb: bitrate max/min/avg: 0/0/0 buffer size: 0 vbv_delay: N/A\n",
      "frame=  651 fps=235 q=-1.0 Lsize=     114kB time=00:00:25.92 bitrate=  36.1kbits/s dup=649 drop=0 speed=9.37x    \n",
      "video:106kB audio:0kB subtitle:0kB other streams:0kB global headers:0kB muxing overhead: 7.984356%\n",
      "\u001b[1;36m[libx264 @ 0x7faccb824e00] \u001b[0mframe I:4     Avg QP:13.21  size: 20812\n",
      "\u001b[1;36m[libx264 @ 0x7faccb824e00] \u001b[0mframe P:164   Avg QP:13.22  size:    58\n",
      "\u001b[1;36m[libx264 @ 0x7faccb824e00] \u001b[0mframe B:483   Avg QP:12.67  size:    31\n",
      "\u001b[1;36m[libx264 @ 0x7faccb824e00] \u001b[0mconsecutive B-frames:  1.1%  0.0%  0.0% 98.9%\n",
      "\u001b[1;36m[libx264 @ 0x7faccb824e00] \u001b[0mmb I  I16..4: 37.0% 54.1%  8.8%\n",
      "\u001b[1;36m[libx264 @ 0x7faccb824e00] \u001b[0mmb P  I16..4:  0.0%  0.0%  0.0%  P16..4:  0.3%  0.0%  0.0%  0.0%  0.0%    skip:99.7%\n",
      "\u001b[1;36m[libx264 @ 0x7faccb824e00] \u001b[0mmb B  I16..4:  0.0%  0.0%  0.0%  B16..8:  0.1%  0.0%  0.0%  direct: 0.0%  skip:99.9%  L0:53.1% L1:46.9% BI: 0.0%\n",
      "\u001b[1;36m[libx264 @ 0x7faccb824e00] \u001b[0m8x8 transform intra:53.9% inter:98.5%\n",
      "\u001b[1;36m[libx264 @ 0x7faccb824e00] \u001b[0mcoded y,uvDC,uvAC intra: 19.7% 27.3% 15.5% inter: 0.0% 0.1% 0.0%\n",
      "\u001b[1;36m[libx264 @ 0x7faccb824e00] \u001b[0mi16 v,h,dc,p: 78% 15%  7%  1%\n",
      "\u001b[1;36m[libx264 @ 0x7faccb824e00] \u001b[0mi8 v,h,dc,ddl,ddr,vr,hd,vl,hu: 60% 16% 16%  2%  1%  1%  1%  1%  1%\n",
      "\u001b[1;36m[libx264 @ 0x7faccb824e00] \u001b[0mi4 v,h,dc,ddl,ddr,vr,hd,vl,hu: 39% 29% 10%  4%  4%  4%  4%  3%  4%\n",
      "\u001b[1;36m[libx264 @ 0x7faccb824e00] \u001b[0mi8c dc,h,v,p: 64% 17% 15%  3%\n",
      "\u001b[1;36m[libx264 @ 0x7faccb824e00] \u001b[0mWeighted P-Frames: Y:0.0% UV:0.0%\n",
      "\u001b[1;36m[libx264 @ 0x7faccb824e00] \u001b[0mref P L0: 97.5%  0.0%  1.9%  0.5%\n",
      "\u001b[1;36m[libx264 @ 0x7faccb824e00] \u001b[0mref B L0: 46.6% 53.4%\n",
      "\u001b[1;36m[libx264 @ 0x7faccb824e00] \u001b[0mkb/s:33.09\n",
      "\n"
     ]
    }
   ],
   "source": [
    "#hide\n",
    "#test\n",
    "with tempfile.TemporaryDirectory() as tempdir:\n",
    "    with _cd_temp(tempdir):\n",
    "        assert os.getcwd().endswith(tempdir)\n",
    "        assert os.path.exists(tempdir) and os.path.isdir(tempdir)\n",
    "\n",
    "        ! msl --slide 1074 1075 \\\n",
    "          https://slideslive.com/38956531/beyond-static-papers-rethinking-how-we-share-scientific-understanding-in-ml\n",
    "        \n",
    "        assert os.path.exists('38956531') and os.path.isdir('38956531')\n",
    "        assert os.path.isfile('38956531/01074.jpg') and os.path.isfile('38956531/01075.jpg')\n",
    "        assert os.path.isfile('38956531.mp4')\n",
    "\n",
    "    assert os.getcwd() == CWD"
   ]
  },
  {
   "cell_type": "code",
   "execution_count": null,
   "id": "aa148c14",
   "metadata": {},
   "outputs": [],
   "source": [
    "#hide\n",
    "#export\n",
    "if __name__ == '__main__':\n",
    "    main()"
   ]
  },
  {
   "cell_type": "code",
   "execution_count": null,
   "id": "0287ade9",
   "metadata": {},
   "outputs": [
    {
     "name": "stdout",
     "output_type": "stream",
     "text": [
      "Converted cli.ipynb.\n",
      "Converted index.ipynb.\n",
      "Converted slideslive.ipynb.\n"
     ]
    }
   ],
   "source": [
    "#hide\n",
    "notebook2script()"
   ]
  },
  {
   "cell_type": "code",
   "execution_count": null,
   "id": "d722cda3",
   "metadata": {},
   "outputs": [],
   "source": []
  }
 ],
 "metadata": {
  "kernelspec": {
   "display_name": "Python 3 (ipykernel)",
   "language": "python",
   "name": "python3"
  }
 },
 "nbformat": 4,
 "nbformat_minor": 5
}
