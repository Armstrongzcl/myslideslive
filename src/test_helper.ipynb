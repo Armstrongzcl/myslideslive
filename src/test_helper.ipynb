{
 "cells": [
  {
   "cell_type": "code",
   "execution_count": null,
   "id": "f2722411",
   "metadata": {},
   "outputs": [],
   "source": [
    "#default_exp test_helper"
   ]
  },
  {
   "cell_type": "code",
   "execution_count": null,
   "id": "f15633f6",
   "metadata": {},
   "outputs": [],
   "source": [
    "#hide\n",
    "%load_ext autoreload\n",
    "%autoreload 2"
   ]
  },
  {
   "cell_type": "code",
   "execution_count": null,
   "id": "bf659f7c",
   "metadata": {},
   "outputs": [],
   "source": [
    "#hide\n",
    "from nbdev.export import notebook2script"
   ]
  },
  {
   "cell_type": "code",
   "execution_count": null,
   "id": "8e1dd7b6",
   "metadata": {},
   "outputs": [],
   "source": [
    "#export\n",
    "#hide\n",
    "#test\n",
    "import contextlib\n",
    "import os"
   ]
  },
  {
   "cell_type": "code",
   "execution_count": null,
   "id": "151b0af4",
   "metadata": {},
   "outputs": [],
   "source": [
    "#export\n",
    "#test\n",
    "#hide\n",
    "@contextlib.contextmanager\n",
    "def _cd_temp(_path):\n",
    "    _cwd = os.getcwd()\n",
    "\n",
    "    assert os.path.exists(_path), 'Unreachable directory'\n",
    "    os.chdir(_path)\n",
    "\n",
    "    try:\n",
    "        yield\n",
    "    except Exception as e:\n",
    "        os.chdir(_cwd)\n",
    "        raise e\n",
    "    finally:\n",
    "        os.chdir(_cwd)"
   ]
  },
  {
   "cell_type": "code",
   "execution_count": null,
   "id": "b7122f43",
   "metadata": {},
   "outputs": [
    {
     "name": "stdout",
     "output_type": "stream",
     "text": [
      "Converted cli.ipynb.\n",
      "Converted index.ipynb.\n",
      "Converted slideslive.ipynb.\n",
      "Converted test_helper.ipynb.\n"
     ]
    }
   ],
   "source": [
    "#hide\n",
    "notebook2script()"
   ]
  },
  {
   "cell_type": "code",
   "execution_count": null,
   "id": "ff48f5b6",
   "metadata": {},
   "outputs": [],
   "source": []
  }
 ],
 "metadata": {
  "kernelspec": {
   "display_name": "Python 3 (ipykernel)",
   "language": "python",
   "name": "python3"
  }
 },
 "nbformat": 4,
 "nbformat_minor": 5
}
