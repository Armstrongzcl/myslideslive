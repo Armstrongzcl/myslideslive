{
 "cells": [
  {
   "cell_type": "code",
   "execution_count": null,
   "metadata": {},
   "outputs": [],
   "source": [
    "#hide\n",
    "%load_ext autoreload\n",
    "%autoreload 2"
   ]
  },
  {
   "cell_type": "markdown",
   "metadata": {},
   "source": [
    "[![Licence][licence-badge]][licence-link]\n",
    "[![Python][python-badge]][python-link]\n",
    "[![PyPI][pypi-badge]][pypi-link]\n",
    "[![Documentation][doc-badge]][doc-link]\n",
    "\n",
    "[licence-badge]: https://img.shields.io/github/license/so-cool/myslideslive.svg\n",
    "[licence-link]: https://github.com/so-cool/myslideslive/blob/master/LICENSE\n",
    "[python-badge]: https://img.shields.io/badge/python-3.6-blue.svg\n",
    "[python-link]: https://github.com/so-cool/myslideslive\n",
    "[pypi-badge]: https://img.shields.io/pypi/v/myslideslive.svg\n",
    "[pypi-link]: https://pypi.org/project/myslideslive\n",
    "[doc-badge]: https://img.shields.io/badge/read-documentation-blue.svg\n",
    "[doc-link]: https://so-cool.github.io/myslideslive"
   ]
  },
  {
   "cell_type": "markdown",
   "metadata": {},
   "source": [
    "# mySlidesLive\n",
    "\n",
    "> ...helps you to extract your SlidesLive presentation."
   ]
  },
  {
   "cell_type": "markdown",
   "metadata": {},
   "source": [
    "## Install"
   ]
  },
  {
   "cell_type": "markdown",
   "metadata": {},
   "source": [
    "```bash\n",
    "pip install myslideslive\n",
    "```"
   ]
  },
  {
   "cell_type": "markdown",
   "metadata": {},
   "source": [
    "## Usage"
   ]
  },
  {
   "cell_type": "markdown",
   "metadata": {},
   "source": [
    "### Python"
   ]
  },
  {
   "cell_type": "markdown",
   "metadata": {},
   "source": [
    "In a Python console:"
   ]
  },
  {
   "cell_type": "code",
   "execution_count": null,
   "metadata": {},
   "outputs": [],
   "source": [
    "from myslideslive import SlidesLive\n",
    "\n",
    "msl = SlidesLive('https://slideslive.com/38956531/'\n",
    "                 'beyond-static-papers-'\n",
    "                 'rethinking-how-we-share-scientific-understanding-in-ml')\n",
    "msl.download_slides(slide=(1074, 1075))\n",
    "msl.compose_video()"
   ]
  },
  {
   "cell_type": "markdown",
   "metadata": {},
   "source": [
    "### CLI"
   ]
  },
  {
   "cell_type": "markdown",
   "metadata": {},
   "source": [
    "Directly from terminal:\n",
    "```bash\n",
    "msl --slide 1074 1075 \\\n",
    "https://slideslive.com/38956531/beyond-static-papers-rethinking-how-we-share-scientific-understanding-in-ml\n",
    "```"
   ]
  },
  {
   "cell_type": "markdown",
   "metadata": {},
   "source": [
    "## Development\n",
    "- To develop this package you need [nbdev].\n",
    "- The library is built with `nbdev_build_lib` and `nbdev_update_lib`.\n",
    "- `nbdev_build_lib` also builds the `Makefile`.\n",
    "- The `README.md` is regenerated with `nbdev_build_docs`.\n",
    "- The git hooks are set up with `nbdev_install_git_hooks`.\n",
    "\n",
    "[nbdev]: https://nbdev.fast.ai/"
   ]
  },
  {
   "cell_type": "markdown",
   "metadata": {},
   "source": [
    "## What about the SlidesLive video recording?\n",
    "If you want to get the video recording of your SlidesLive presentation as well,\n",
    "[youtube-dl] can take care of that.\n",
    "Then you can cut the video with:\n",
    "```bash\n",
    "ffmpeg -ss [start] -i video_in.mp4 -t [duration] -c copy video_out.mp4\n",
    "```\n",
    "where `[start]` specifies the start time, e.g. `00:01:23.000` or `83` (in seconds);\n",
    "and `[duration]` specifies the duration in the same format.\n",
    "Alternatively to `-t [duration]`, you may use `-to [end]`.\n",
    "\n",
    "[youtube-dl]: https://github.com/ytdl-org/youtube-dl"
   ]
  },
  {
   "cell_type": "markdown",
   "metadata": {},
   "source": [
    "## About"
   ]
  },
  {
   "cell_type": "markdown",
   "metadata": {},
   "source": [
    "This Python module was inspired by:\n",
    "* <https://github.com/Chandrahasd/slideslive-slides-dl>; and\n",
    "* <https://github.com/AugustKarlstedt/slideslive-downloader>."
   ]
  },
  {
   "cell_type": "code",
   "execution_count": null,
   "metadata": {},
   "outputs": [],
   "source": []
  }
 ],
 "metadata": {
  "kernelspec": {
   "display_name": "Python 3 (ipykernel)",
   "language": "python",
   "name": "python3"
  }
 },
 "nbformat": 4,
 "nbformat_minor": 2
}
