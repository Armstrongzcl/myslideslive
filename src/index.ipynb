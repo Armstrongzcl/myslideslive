{
 "cells": [
  {
   "cell_type": "code",
   "execution_count": null,
   "metadata": {},
   "outputs": [],
   "source": [
    "#hide\n",
    "%load_ext autoreload\n",
    "%autoreload 2"
   ]
  },
  {
   "cell_type": "markdown",
   "metadata": {},
   "source": [
    "# mySlidesLive helps you to get your slides\n",
    "\n",
    "> Summary description here."
   ]
  },
  {
   "cell_type": "markdown",
   "metadata": {},
   "source": [
    "## Install"
   ]
  },
  {
   "cell_type": "markdown",
   "metadata": {},
   "source": [
    "```bash\n",
    "pip install myslideslive\n",
    "```"
   ]
  },
  {
   "cell_type": "markdown",
   "metadata": {},
   "source": [
    "## Usage"
   ]
  },
  {
   "cell_type": "markdown",
   "metadata": {},
   "source": [
    "### Python"
   ]
  },
  {
   "cell_type": "markdown",
   "metadata": {},
   "source": [
    "In a Python console:"
   ]
  },
  {
   "cell_type": "code",
   "execution_count": null,
   "metadata": {},
   "outputs": [],
   "source": [
    "from myslideslive import SlidesLive"
   ]
  },
  {
   "cell_type": "code",
   "execution_count": null,
   "metadata": {},
   "outputs": [],
   "source": [
    "msl = SlidesLive('https://slideslive.com/38956531/'\n",
    "                 'beyond-static-papers-'\n",
    "                 'rethinking-how-we-share-scientific-understanding-in-ml')"
   ]
  },
  {
   "cell_type": "code",
   "execution_count": null,
   "metadata": {},
   "outputs": [],
   "source": [
    "msl.download_slides(slide=(1074, 1075))"
   ]
  },
  {
   "cell_type": "code",
   "execution_count": null,
   "metadata": {},
   "outputs": [],
   "source": [
    "msl.compose_video()"
   ]
  },
  {
   "cell_type": "markdown",
   "metadata": {},
   "source": [
    "### CLI"
   ]
  },
  {
   "cell_type": "markdown",
   "metadata": {},
   "source": [
    "Directly from terminal:\n",
    "```bash\n",
    "msl --slide 1074 1075 \\\n",
    "https://slideslive.com/38956531/beyond-static-papers-rethinking-how-we-share-scientific-understanding-in-ml\n",
    "```"
   ]
  },
  {
   "cell_type": "markdown",
   "metadata": {},
   "source": [
    "## Development\n",
    "- To develop this package you need [nbdev].\n",
    "- The library is built with `nbdev_build_lib` and `nbdev_update_lib`.\n",
    "- `nbdev_build_lib` also builds the `Makefile`.\n",
    "- The `README.md` is regenerated with `nbdev_build_docs`.\n",
    "- The git hooks are set up with `nbdev_install_git_hooks`.\n",
    "\n",
    "[nbdev]: https://nbdev.fast.ai/"
   ]
  },
  {
   "cell_type": "markdown",
   "metadata": {},
   "source": [
    "## What about the SlidesLive video recording?\n",
    "If you want to get the video recording of your SlidesLive presentation as well,\n",
    "[youtube-dl] can take care of that.\n",
    "Then you can cut the video with:\n",
    "```bash\n",
    "ffmpeg -ss [start] -i video_in.mp4 -t [duration] -c copy video_out.mp4\n",
    "```\n",
    "where `[start]` specifies the start time, e.g. 00:01:23.000 or 83 (in seconds);\n",
    "and `[duration]` specifies the duration in the same format.\n",
    "Alternatively to `-t [duration]`, you may use `-to`.\n",
    "\n",
    "[youtube-dl]: https://github.com/ytdl-org/youtube-dl"
   ]
  },
  {
   "cell_type": "markdown",
   "metadata": {},
   "source": [
    "## About"
   ]
  },
  {
   "cell_type": "markdown",
   "metadata": {},
   "source": [
    "This Python module was inspired by:\n",
    "* <https://github.com/Chandrahasd/slideslive-slides-dl>; and\n",
    "* <https://github.com/AugustKarlstedt/slideslive-downloader>."
   ]
  },
  {
   "cell_type": "code",
   "execution_count": null,
   "metadata": {},
   "outputs": [],
   "source": []
  }
 ],
 "metadata": {
  "kernelspec": {
   "display_name": "Python 3 (ipykernel)",
   "language": "python",
   "name": "python3"
  }
 },
 "nbformat": 4,
 "nbformat_minor": 2
}
